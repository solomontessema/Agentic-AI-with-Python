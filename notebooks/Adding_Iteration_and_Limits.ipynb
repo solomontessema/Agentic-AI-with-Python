{
  "nbformat": 4,
  "nbformat_minor": 0,
  "metadata": {
    "colab": {
      "provenance": [],
      "include_colab_link": true
    },
    "kernelspec": {
      "name": "python3",
      "display_name": "Python 3"
    },
    "language_info": {
      "name": "python"
    }
  },
  "cells": [
    {
      "cell_type": "markdown",
      "metadata": {
        "id": "view-in-github",
        "colab_type": "text"
      },
      "source": [
        "<a href=\"https://colab.research.google.com/github/solomontessema/Agentic-AI-with-Python/blob/main/notebooks/Adding_Iteration_and_Limits.ipynb\" target=\"_parent\"><img src=\"https://colab.research.google.com/assets/colab-badge.svg\" alt=\"Open In Colab\"/></a>"
      ]
    },
    {
      "cell_type": "markdown",
      "source": [
        "<table>\n",
        "  <tr>\n",
        "    <td><img src=\"https://ionnova.com/img/ionnova_logo_name_2.png\" width=\"120px\"></td>\n",
        "    <td><h1>Adding Iteration and Limits</h1></td>\n",
        "  </tr>\n",
        "</table>"
      ],
      "metadata": {
        "id": "vlg-QQc03gnw"
      }
    },
    {
      "cell_type": "code",
      "source": [
        "!pip install langgraph"
      ],
      "metadata": {
        "id": "WSQaUTz_k6qO"
      },
      "execution_count": null,
      "outputs": []
    },
    {
      "cell_type": "code",
      "source": [
        "!pip install langchain_community"
      ],
      "metadata": {
        "id": "lEDpmakHxiqy"
      },
      "execution_count": null,
      "outputs": []
    },
    {
      "cell_type": "code",
      "execution_count": null,
      "metadata": {
        "id": "8NZ2_4NqzCx3"
      },
      "outputs": [],
      "source": [
        "from dotenv import load_dotenv\n",
        "from langchain.chat_models import ChatOpenAI\n",
        "from langchain.agents import initialize_agent, AgentType\n",
        "from langchain.prompts import PromptTemplate\n",
        "from langchain.tools import Tool\n",
        "\n",
        "# import your API KEY\n",
        "load_dotenv()\n",
        "\n",
        "llm = ChatOpenAI(model=\"gpt-3.5-turbo\", temperature=0)\n",
        "\n",
        "template = \"\"\"\n",
        "Task: {task}\n",
        "\n",
        "Use the following format:\n",
        "Thought:\n",
        "Action:\n",
        "Action Input:\n",
        "Observation:\n",
        "\"\"\"\n",
        "\n",
        "weather_prompt = PromptTemplate(\n",
        "    input_variables=[\"task\"],\n",
        "    template=template\n",
        ")\n",
        "\n",
        "\n",
        "# Create a Sample Tool that simulates weather data.\n",
        "def get_weather(city: str) -> str:\n",
        "    return f\"Simulated weather for {city}: Sunny, 24°C.\"\n",
        "\n",
        "weather_tool = Tool(\n",
        "    name=\"get_weather\",\n",
        "    func=get_weather,\n",
        "    description=\"Fetch simulated weather data for a given city.\"\n",
        ")\n",
        "\n",
        "\n",
        "def web_search(query: str) -> str:\n",
        "    return f\"Simulated search result for: {query}\"\n",
        "\n",
        "search_tool = Tool(\n",
        "    name=\"web_search\",\n",
        "    func=web_search,\n",
        "    description=\"Simulate a web search for a given query.\"\n",
        ")\n",
        "\n",
        "llm = ChatOpenAI(model=\"gpt-3.5-turbo\", temperature=0)\n",
        "\n",
        "agent = initialize_agent(\n",
        "    tools=[weather_tool, search_tool],\n",
        "    llm=llm,\n",
        "    agent=AgentType.ZERO_SHOT_REACT_DESCRIPTION,\n",
        "    verbose=True,\n",
        "    max_iterations=3,\n",
        "    agent_kwargs={\"prompt\": weather_prompt}\n",
        ")\n"
      ]
    },
    {
      "cell_type": "markdown",
      "source": [
        "### Test the Agent"
      ],
      "metadata": {
        "id": "FEdnwLF-7GNl"
      }
    },
    {
      "cell_type": "code",
      "source": [
        "query = \"Find the weather in Nairobi and summarize the result in one sentence.\"\n",
        "response = agent.run(query)\n",
        "print(response)"
      ],
      "metadata": {
        "id": "u6x5j6W17DNb"
      },
      "execution_count": null,
      "outputs": []
    }
  ]
}