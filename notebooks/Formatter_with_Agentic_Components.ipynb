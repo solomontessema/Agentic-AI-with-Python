{
  "nbformat": 4,
  "nbformat_minor": 0,
  "metadata": {
    "colab": {
      "provenance": [],
      "authorship_tag": "ABX9TyM5u33WD6672Aroh5aGdVq+",
      "include_colab_link": true
    },
    "kernelspec": {
      "name": "python3",
      "display_name": "Python 3"
    },
    "language_info": {
      "name": "python"
    }
  },
  "cells": [
    {
      "cell_type": "markdown",
      "metadata": {
        "id": "view-in-github",
        "colab_type": "text"
      },
      "source": [
        "<a href=\"https://colab.research.google.com/github/solomontessema/Agentic-AI-with-Python/blob/main/notebooks/Formatter_with_Agentic_Components.ipynb\" target=\"_parent\"><img src=\"https://colab.research.google.com/assets/colab-badge.svg\" alt=\"Open In Colab\"/></a>"
      ]
    },
    {
      "cell_type": "code",
      "source": [
        "!pip install langchain_community"
      ],
      "metadata": {
        "id": "5vuoA2rxa9FF"
      },
      "execution_count": null,
      "outputs": []
    },
    {
      "cell_type": "code",
      "execution_count": null,
      "metadata": {
        "id": "XsSPT8etaY8S"
      },
      "outputs": [],
      "source": [
        "import pandas as pd\n",
        "import matplotlib.pyplot as plt\n",
        "from langchain_community.chat_models import ChatOpenAI\n",
        "from langchain.prompts import PromptTemplate\n",
        "from langchain.chains import LLMChain\n",
        "import os\n",
        "from dotenv import load_dotenv\n",
        "\n",
        "load_dotenv()\n",
        "\n",
        "# GPT summary chain\n",
        "summary_template = PromptTemplate(\n",
        "    input_variables=[\"data\"],\n",
        "    template=\"\"\"\n",
        "You are an assistant generating summaries for email reports.\n",
        "Summarize the following data clearly, concisely, and professionally:\n",
        "\n",
        "{data}\n",
        "\n",
        "Summary:\n",
        "\"\"\"\n",
        ")\n",
        "\n",
        "llm = ChatOpenAI(model=\"gpt-4\", temperature=0)\n",
        "summarizer = LLMChain(llm=llm, prompt=summary_template)\n",
        "\n",
        "def summarize_data(raw_data: str) -> str:\n",
        "    return summarizer.run(data=raw_data)\n",
        "\n",
        "def generate_chart(df: pd.DataFrame, chart_path: str):\n",
        "    ax = df.plot(kind=\"bar\", x=df.columns[0], y=df.columns[1], legend=False)\n",
        "    ax.set_title(\"Chart Output\")\n",
        "    plt.tight_layout()\n",
        "    plt.savefig(chart_path)\n",
        "    plt.close()\n",
        "\n",
        "if __name__ == \"__main__\":\n",
        "    # sample DataFrame\n",
        "    df = pd.DataFrame({\"Sender\": [\"alice\", \"bob\"], \"Emails\": [4, 6]})\n",
        "\n",
        "    data_for_summary = df.to_markdown()\n",
        "    summary = summarize_data(data_for_summary)\n",
        "    print(summary)\n",
        "\n",
        "    # Generate chart image for attachment\n",
        "    generate_chart(df, \"chart.png\")"
      ]
    }
  ]
}
