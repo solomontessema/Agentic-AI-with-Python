{
  "nbformat": 4,
  "nbformat_minor": 0,
  "metadata": {
    "colab": {
      "provenance": [],
      "include_colab_link": true
    },
    "kernelspec": {
      "name": "python3",
      "display_name": "Python 3"
    },
    "language_info": {
      "name": "python"
    }
  },
  "cells": [
    {
      "cell_type": "markdown",
      "metadata": {
        "id": "view-in-github",
        "colab_type": "text"
      },
      "source": [
        "<a href=\"https://colab.research.google.com/github/solomontessema/Agentic-AI-with-Python/blob/main/notebooks/Composing_Modular_Nodes.ipynb\" target=\"_parent\"><img src=\"https://colab.research.google.com/assets/colab-badge.svg\" alt=\"Open In Colab\"/></a>"
      ]
    },
    {
      "cell_type": "markdown",
      "source": [
        "<table>\n",
        "  <tr>\n",
        "    <td><img src=\"https://ionnova.com/img/ionnova_logo_name_2.png\" width=\"120px\"></td>\n",
        "    <td><h1>Composing Modular Nodes</h1></td>\n",
        "  </tr>\n",
        "</table>"
      ],
      "metadata": {
        "id": "-BQRkf3HklNe"
      }
    },
    {
      "cell_type": "code",
      "source": [
        "!pip install langgraph"
      ],
      "metadata": {
        "id": "WSQaUTz_k6qO"
      },
      "execution_count": null,
      "outputs": []
    },
    {
      "cell_type": "code",
      "execution_count": null,
      "metadata": {
        "id": "NW4MiEhVkLZG"
      },
      "outputs": [],
      "source": [
        "\n",
        "from langgraph.graph import StateGraph, END\n",
        "from typing import TypedDict\n",
        "\n",
        "class GraphState(TypedDict):\n",
        "    input: str\n",
        "    summary_result: str\n",
        "    keyword_result: str\n",
        "\n",
        "# Define Node Modules\n",
        "\n",
        "def summarize_node(state):\n",
        "    print(\"[Summarize Node]\")\n",
        "    state[\"summary_result\"] = state[\"input\"][:30] + \"...\"  # Simulated summary\n",
        "    return state\n",
        "\n",
        "def keyword_node(state):\n",
        "    print(\"[Keyword Extraction Node]\")\n",
        "    state[\"keyword_result\"] = \"Agentic AI, LangChain, Langraph, LLM, GPT\"\n",
        "    return state\n",
        "\n",
        "# Create Graph\n",
        "\n",
        "graph = StateGraph(GraphState)\n",
        "graph.add_node(\"summarize\", summarize_node)\n",
        "graph.add_node(\"extract_keywords\", keyword_node)\n",
        "\n",
        "graph.set_entry_point(\"summarize\")\n",
        "graph.add_edge(\"summarize\", \"extract_keywords\")\n",
        "graph.set_finish_point(\"extract_keywords\")\n",
        "\n",
        "graph = graph.compile()\n",
        "\n",
        "# Run the Graph\n",
        "\n",
        "if __name__ == \"__main__\":\n",
        "    result = graph.invoke({\"input\": \"OpenAI released a new model with better reasoning capabilities.\"})\n",
        "    print(\"Final Output:\", result)"
      ]
    }
  ]
}