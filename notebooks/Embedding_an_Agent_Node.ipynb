{
  "nbformat": 4,
  "nbformat_minor": 0,
  "metadata": {
    "colab": {
      "provenance": [],
      "include_colab_link": true
    },
    "kernelspec": {
      "name": "python3",
      "display_name": "Python 3"
    },
    "language_info": {
      "name": "python"
    }
  },
  "cells": [
    {
      "cell_type": "markdown",
      "metadata": {
        "id": "view-in-github",
        "colab_type": "text"
      },
      "source": [
        "<a href=\"https://colab.research.google.com/github/solomontessema/Agentic-AI-with-Python/blob/main/notebooks/Embedding_an_Agent_Node.ipynb\" target=\"_parent\"><img src=\"https://colab.research.google.com/assets/colab-badge.svg\" alt=\"Open In Colab\"/></a>"
      ]
    },
    {
      "cell_type": "markdown",
      "source": [
        "<table>\n",
        "  <tr>\n",
        "    <td><img src=\"https://ionnova.com/img/ionnova_logo_name_2.png\" width=\"120px\"></td>\n",
        "    <td><h1>Embedding an Agent Node</h1></td>\n",
        "  </tr>\n",
        "</table>"
      ],
      "metadata": {
        "id": "-BQRkf3HklNe"
      }
    },
    {
      "cell_type": "code",
      "source": [
        "!pip install langgraph"
      ],
      "metadata": {
        "id": "WSQaUTz_k6qO"
      },
      "execution_count": null,
      "outputs": []
    },
    {
      "cell_type": "code",
      "execution_count": null,
      "metadata": {
        "id": "NW4MiEhVkLZG"
      },
      "outputs": [],
      "source": [
        "\n",
        "from langchain.agents import initialize_agent, AgentType\n",
        "from langchain.chat_models import ChatOpenAI\n",
        "from langchain.tools import Tool\n",
        "from langgraph.graph import StateGraph, END\n",
        "from typing import TypedDict\n",
        "\n",
        "llm = ChatOpenAI(model=\"gpt-3.5-turbo\", temperature=0)\n",
        "\n",
        "tools = [search_tool]\n",
        "\n",
        "agent_executor = initialize_agent(\n",
        "    tools=tools,\n",
        "    llm=llm,\n",
        "    agent=AgentType.ZERO_SHOT_REACT_DESCRIPTION,\n",
        "    verbose=True\n",
        ")\n",
        "\n",
        "# Create Graph Node That Runs the Agent\n",
        "class GraphState(TypedDict):\n",
        "    input: str\n",
        "    agent_response: str\n",
        "\n",
        "# Agent node\n",
        "def agent_node(state: GraphState):\n",
        "    print(\"[Agent Node] Invoking LangChain agent...\")\n",
        "    result = agent_executor.run(state[\"input\"])\n",
        "    state[\"agent_response\"] = result\n",
        "    return state\n",
        "\n",
        "# Graph setup\n",
        "graph = StateGraph(GraphState)\n",
        "graph.add_node(\"agent\", agent_node)\n",
        "graph.set_entry_point(\"agent\")\n",
        "graph.set_finish_point(\"agent\")\n",
        "graph = graph.compile()\n",
        "\n",
        "if __name__ == \"__main__\":\n",
        "    output = graph.invoke({\"input\": \"Search for the latest developments in quantum computing.\"})\n",
        "    print(\"Agent Output:\", output[\"agent_response\"])\n"
      ]
    }
  ]
}