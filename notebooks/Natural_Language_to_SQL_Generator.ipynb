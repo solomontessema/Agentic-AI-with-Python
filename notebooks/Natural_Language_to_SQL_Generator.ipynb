{
  "nbformat": 4,
  "nbformat_minor": 0,
  "metadata": {
    "colab": {
      "provenance": [],
      "include_colab_link": true
    },
    "kernelspec": {
      "name": "python3",
      "display_name": "Python 3"
    },
    "language_info": {
      "name": "python"
    }
  },
  "cells": [
    {
      "cell_type": "markdown",
      "metadata": {
        "id": "view-in-github",
        "colab_type": "text"
      },
      "source": [
        "<a href=\"https://colab.research.google.com/github/solomontessema/Agentic-AI-with-Python/blob/main/notebooks/Natural_Language_to_SQL_Generator.ipynb\" target=\"_parent\"><img src=\"https://colab.research.google.com/assets/colab-badge.svg\" alt=\"Open In Colab\"/></a>"
      ]
    },
    {
      "cell_type": "markdown",
      "source": [
        "<table>\n",
        "  <tr>\n",
        "    <td><img src=\"https://ionnova.com/img/ionnova_logo_name_2.png\" width=\"120px\"></td>\n",
        "    <td><h1>Natural Language to SQL Generator</h1></td>\n",
        "  </tr>\n",
        "</table>"
      ],
      "metadata": {
        "id": "hgswtkzWXnxR"
      }
    },
    {
      "cell_type": "markdown",
      "source": [
        "## Step 1: Create database and table"
      ],
      "metadata": {
        "id": "ZUTJNyzSm45-"
      }
    },
    {
      "cell_type": "code",
      "source": [
        "!pip install langchain_community"
      ],
      "metadata": {
        "id": "AHB9gJMMohim"
      },
      "execution_count": null,
      "outputs": []
    },
    {
      "cell_type": "code",
      "source": [
        "import sqlite3\n",
        "import random\n",
        "from datetime import datetime\n",
        "\n",
        "# Connect to (or create) a database file\n",
        "db = sqlite3.connect(\"data.db\")\n",
        "cursor = db.cursor()\n",
        "\n",
        "# Create a sample table\n",
        "cursor.execute(\"\"\"\n",
        "CREATE TABLE IF NOT EXISTS users (\n",
        "    id INTEGER PRIMARY KEY,\n",
        "    name TEXT,\n",
        "    email TEXT,\n",
        "    signup_date TEXT\n",
        ");\n",
        "\"\"\")\n",
        "\n",
        "db.commit()\n",
        "\n",
        "# Insert sample data\n",
        "def insert_sample_users():\n",
        "    names = [\"Alice\", \"Bob\", \"Charlie\", \"Diana\", \"Eve\", \"Frank\", \"Grace\", \"Hank\", \"Ivy\", \"Jack\",\n",
        "             \"Karen\", \"Leo\", \"Mona\", \"Nate\", \"Olivia\", \"Paul\", \"Quinn\", \"Rachel\", \"Steve\", \"Tina\",\n",
        "             \"Uma\", \"Victor\", \"Wendy\", \"Xander\", \"Yara\", \"Zane\", \"Liam\", \"Noah\", \"Emma\", \"Sophia\"]\n",
        "\n",
        "    for i in range(30):\n",
        "        name = names[i]\n",
        "        email = f\"{name.lower()}@example.com\"\n",
        "        # Random signup date in 2022 or 2023\n",
        "        year = random.choice([2022, 2023])\n",
        "        month = random.randint(1, 12)\n",
        "        day = random.randint(1, 28)\n",
        "        signup_date = datetime(year, month, day).strftime(\"%Y-%m-%d\")\n",
        "\n",
        "        cursor.execute(\"INSERT INTO users (name, email, signup_date) VALUES (?, ?, ?)\",\n",
        "                       (name, email, signup_date))\n",
        "\n",
        "    db.commit()\n",
        "    print(\"Inserted 30 sample users.\")\n",
        "\n",
        "# Run this once to populate the table\n",
        "insert_sample_users()"
      ],
      "metadata": {
        "id": "WzIl4kAnp5JC"
      },
      "execution_count": null,
      "outputs": []
    },
    {
      "cell_type": "code",
      "source": [],
      "metadata": {
        "id": "4mA2oswkqLvD"
      },
      "execution_count": null,
      "outputs": []
    },
    {
      "cell_type": "code",
      "source": [
        "import sqlite3\n",
        "\n",
        "class SQLiteConnector:\n",
        "    def __init__(self, db_path=\"data.db\"):\n",
        "        self.conn = sqlite3.connect(db_path)\n",
        "        self.cursor = self.conn.cursor()\n",
        "\n",
        "    def list_tables(self):\n",
        "        self.cursor.execute(\"SELECT name FROM sqlite_master WHERE type='table';\")\n",
        "        return [row[0] for row in self.cursor.fetchall()]\n",
        "\n",
        "    def describe_table(self, table_name):\n",
        "        self.cursor.execute(f\"PRAGMA table_info({table_name});\")\n",
        "        return self.cursor.fetchall()\n",
        "\n",
        "    def get_schema_summary(self):\n",
        "        summary = []\n",
        "        for table in self.list_tables():\n",
        "            cols = self.describe_table(table)\n",
        "            formatted = f\"Table: {table} Columns: {[col[1] for col in cols]}\"\n",
        "            summary.append(formatted)\n",
        "        return \"\\n\".join(summary)\n",
        "\n",
        "if __name__ == \"__main__\":\n",
        "    db = SQLiteConnector()\n",
        "    print(db.get_schema_summary())"
      ],
      "metadata": {
        "id": "_LjMN23JmnLr"
      },
      "execution_count": null,
      "outputs": []
    },
    {
      "cell_type": "code",
      "execution_count": null,
      "metadata": {
        "id": "3Cvty8lhS57N"
      },
      "outputs": [],
      "source": [
        "# from db_connector import SQLiteConnector\n",
        "from langchain.prompts import PromptTemplate\n",
        "from langchain_community.chat_models import ChatOpenAI\n",
        "from langchain.chains import LLMChain\n",
        "import os\n",
        "from dotenv import load_dotenv\n",
        "\n",
        "load_dotenv()\n",
        "OPENAI_API_KEY = os.getenv(\"OPENAI_API_KEY\")\n",
        "\n",
        "\n",
        "connector = SQLiteConnector()\n",
        "schema_summary = connector.get_schema_summary()\n",
        "\n",
        "llm = ChatOpenAI(model=\"gpt-4\", temperature=0)\n",
        "\n",
        "prompt = PromptTemplate(\n",
        "    input_variables=[\"schema\", \"question\"],\n",
        "    template=\"\"\"\n",
        "    Given the database schema:\n",
        "    {schema}\n",
        "\n",
        "    Write only the SQLite SQL query to answer the question below.\n",
        "    Do not include any explanation or commentary.\n",
        "\n",
        "    Question:\n",
        "    {question}\n",
        "    \"\"\"\n",
        ")\n",
        "\n",
        "\n",
        "sql_chain = LLMChain(llm=llm, prompt=prompt)\n",
        "\n",
        "def generate_sql(question: str):\n",
        "    return sql_chain.run({\"schema\": schema_summary, \"question\": question})\n",
        "\n",
        "def run_query(query):\n",
        "    try:\n",
        "        cursor = connector.conn.cursor()\n",
        "        cursor.execute(query)\n",
        "        rows = cursor.fetchall()\n",
        "        columns = [desc[0] for desc in cursor.description]\n",
        "        return columns, rows\n",
        "    except Exception as e:\n",
        "        return None, f\"SQL Error: {str(e)}\"\n",
        "\n",
        "\n",
        "def format_results(columns, rows):\n",
        "    if not rows:\n",
        "        return \"No results found.\"\n",
        "\n",
        "    output = \"\"\n",
        "    for row in rows:\n",
        "        row_text = \", \".join(f\"{col}: {val}\" for col, val in zip(columns, row))\n",
        "        output += f\"- {row_text}\\n\"\n",
        "    return output\n",
        "\n",
        "\n",
        "def execute_and_respond(question):\n",
        "    sql = generate_sql(question)\n",
        "    columns, rows_or_error = run_query(sql)\n",
        "\n",
        "    if isinstance(rows_or_error, str):  # error message\n",
        "        return f\"Error executing SQL: {rows_or_error}\"\n",
        "    return format_results(columns, rows_or_error)\n",
        "\n",
        "if __name__ == \"__main__\":\n",
        "    print(generate_sql(\"How many users signed up after 2023?\"))\n",
        "\n",
        "    response = execute_and_respond(\"How many users signed up after 2023?\")\n",
        "    print(response)\n"
      ]
    }
  ]
}