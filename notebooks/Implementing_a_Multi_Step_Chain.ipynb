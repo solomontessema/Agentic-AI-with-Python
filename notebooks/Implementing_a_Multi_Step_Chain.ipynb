{
  "nbformat": 4,
  "nbformat_minor": 0,
  "metadata": {
    "colab": {
      "provenance": [],
      "include_colab_link": true
    },
    "kernelspec": {
      "name": "python3",
      "display_name": "Python 3"
    },
    "language_info": {
      "name": "python"
    }
  },
  "cells": [
    {
      "cell_type": "markdown",
      "metadata": {
        "id": "view-in-github",
        "colab_type": "text"
      },
      "source": [
        "<a href=\"https://colab.research.google.com/github/solomontessema/Agentic-AI-with-Python/blob/main/notebooks/Implementing_a_Multi_Step_Chain.ipynb\" target=\"_parent\"><img src=\"https://colab.research.google.com/assets/colab-badge.svg\" alt=\"Open In Colab\"/></a>"
      ]
    },
    {
      "cell_type": "markdown",
      "source": [
        "<table>\n",
        "  <tr>\n",
        "    <td><img src=\"https://ionnova.com/img/ionnova_logo_name_2.png\" width=\"120px\"></td>\n",
        "    <td><h1>Implementing a Multi-Step Chain</h1></td>\n",
        "  </tr>\n",
        "</table>"
      ],
      "metadata": {
        "id": "-BQRkf3HklNe"
      }
    },
    {
      "cell_type": "markdown",
      "source": [
        "\n",
        "### Step 1: Create multi_chain.py\n"
      ],
      "metadata": {
        "id": "tP-vSXhAkY9Y"
      }
    },
    {
      "cell_type": "code",
      "source": [
        "!pip install langchain-community"
      ],
      "metadata": {
        "id": "WSQaUTz_k6qO"
      },
      "execution_count": null,
      "outputs": []
    },
    {
      "cell_type": "code",
      "execution_count": null,
      "metadata": {
        "id": "NW4MiEhVkLZG"
      },
      "outputs": [],
      "source": [
        "from dotenv import load_dotenv\n",
        "from langchain.chat_models import ChatOpenAI\n",
        "from langchain.prompts import PromptTemplate\n",
        "from langchain.chains import LLMChain, SequentialChain\n",
        "\n",
        "load_dotenv()\n",
        "llm = ChatOpenAI(model=\"gpt-3.5-turbo\", temperature=0)\n",
        "\n",
        "# Step 1: Analyze Query Intent\n",
        "intent_prompt = PromptTemplate(\n",
        "    input_variables=[\"user_query\"],\n",
        "    template=\"Determine the intent of this query: {user_query}\"\n",
        ")\n",
        "intent_chain = LLMChain(llm=llm, prompt=intent_prompt, output_key=\"intent\")\n",
        "\n",
        "# Step 2: Recommend Tool or Action\n",
        "recommend_prompt = PromptTemplate(\n",
        "    input_variables=[\"intent\"],\n",
        "    template=\"Based on intent '{intent}', recommend a suitable tool or next step.\"\n",
        ")\n",
        "recommend_chain = LLMChain(llm=llm, prompt=recommend_prompt, output_key=\"recommendation\")\n",
        "\n",
        "# Compose chain\n",
        "full_chain = SequentialChain(\n",
        "    chains=[intent_chain, recommend_chain],\n",
        "    input_variables=[\"user_query\"],\n",
        "    output_variables=[\"recommendation\"],\n",
        "    verbose=True\n",
        ")\n",
        "\n",
        "result = full_chain({\"user_query\": \"What’s the stock price of Tesla today?\"})\n",
        "print(result[\"recommendation\"])"
      ]
    },
    {
      "cell_type": "markdown",
      "source": [
        "### Step 2: Run and Log Output\n",
        "\n",
        "Observe how each stage contributes to the final recommendation.\n"
      ],
      "metadata": {
        "id": "Cn8rqdhKoPKN"
      }
    },
    {
      "cell_type": "code",
      "source": [],
      "metadata": {
        "id": "-iQgRXG2oZMN"
      },
      "execution_count": null,
      "outputs": []
    },
    {
      "cell_type": "markdown",
      "source": [
        "\n",
        "### Step 3 (Optional): Extend with a Third Summarization Chain"
      ],
      "metadata": {
        "id": "Rxi6I79CoWAv"
      }
    },
    {
      "cell_type": "code",
      "source": [],
      "metadata": {
        "id": "AKvtHRdcogGE"
      },
      "execution_count": null,
      "outputs": []
    }
  ]
}