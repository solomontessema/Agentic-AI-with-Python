{
  "nbformat": 4,
  "nbformat_minor": 0,
  "metadata": {
    "colab": {
      "provenance": [],
      "include_colab_link": true
    },
    "kernelspec": {
      "name": "python3",
      "display_name": "Python 3"
    },
    "language_info": {
      "name": "python"
    }
  },
  "cells": [
    {
      "cell_type": "markdown",
      "metadata": {
        "id": "view-in-github",
        "colab_type": "text"
      },
      "source": [
        "<a href=\"https://colab.research.google.com/github/solomontessema/Agentic-AI-with-Python/blob/main/notebooks/Plan_and_Execute_Agent.ipynb\" target=\"_parent\"><img src=\"https://colab.research.google.com/assets/colab-badge.svg\" alt=\"Open In Colab\"/></a>"
      ]
    },
    {
      "cell_type": "markdown",
      "source": [
        "<table>\n",
        "  <tr>\n",
        "    <td><img src=\"https://ionnova.com/img/ionnova_logo_name_2.png\" width=\"120px\"></td>\n",
        "    <td><h1>Plan-and-Execute Agent</h1></td>\n",
        "  </tr>\n",
        "</table>"
      ],
      "metadata": {
        "id": "-BQRkf3HklNe"
      }
    },
    {
      "cell_type": "markdown",
      "source": [
        "\n",
        "### Step 1: Create plan_agent.py\n"
      ],
      "metadata": {
        "id": "tP-vSXhAkY9Y"
      }
    },
    {
      "cell_type": "code",
      "source": [
        "!pip install langchain-community"
      ],
      "metadata": {
        "id": "WSQaUTz_k6qO"
      },
      "execution_count": null,
      "outputs": []
    },
    {
      "cell_type": "code",
      "execution_count": null,
      "metadata": {
        "id": "NW4MiEhVkLZG"
      },
      "outputs": [],
      "source": [
        "\n",
        "from langchain.chat_models import ChatOpenAI\n",
        "from langchain.agents import initialize_agent, AgentType\n",
        "from tools.news_tool import news_tool\n",
        "from tools.search_tool import search_tool\n",
        "\n",
        "llm = ChatOpenAI(model=\"gpt-4\", temperature=0)\n",
        "\n",
        "agent = initialize_agent(\n",
        "    tools=[search_tool, news_tool],\n",
        "    llm=llm,\n",
        "    agent=AgentType.PLAN_AND_EXECUTE,\n",
        "    verbose=True\n",
        ")\n",
        "\n",
        "response = agent.run(\"Find top news stories on climate policy and summarize them.\")\n",
        "print(response)\n"
      ]
    },
    {
      "cell_type": "markdown",
      "source": [
        "### Step 2: Evaluate Agent Reasoning\n",
        "\n",
        "Observe:\n",
        "\n",
        "* How the agent structures a plan\n",
        "\n",
        "* Which tools it invokes per subtask\n",
        "\n",
        "* Whether results are summarized coherently\n",
        "\n",
        "### Step 3: Extend with Memory (Optional)\n",
        "\n",
        "Consider integrating memory to allow the agent to retain context across multiple queries. This can enhance multi-step reasoning and improve user experience in dynamic workflows."
      ],
      "metadata": {
        "id": "Cn8rqdhKoPKN"
      }
    },
    {
      "cell_type": "code",
      "source": [],
      "metadata": {
        "id": "-iQgRXG2oZMN"
      },
      "execution_count": null,
      "outputs": []
    }
  ]
}