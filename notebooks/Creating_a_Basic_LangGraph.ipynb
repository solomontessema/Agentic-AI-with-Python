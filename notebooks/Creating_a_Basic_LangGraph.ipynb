{
  "nbformat": 4,
  "nbformat_minor": 0,
  "metadata": {
    "colab": {
      "provenance": [],
      "include_colab_link": true
    },
    "kernelspec": {
      "name": "python3",
      "display_name": "Python 3"
    },
    "language_info": {
      "name": "python"
    }
  },
  "cells": [
    {
      "cell_type": "markdown",
      "metadata": {
        "id": "view-in-github",
        "colab_type": "text"
      },
      "source": [
        "<a href=\"https://colab.research.google.com/github/solomontessema/Agentic-AI-with-Python/blob/main/notebooks/Creating_a_Basic_LangGraph.ipynb\" target=\"_parent\"><img src=\"https://colab.research.google.com/assets/colab-badge.svg\" alt=\"Open In Colab\"/></a>"
      ]
    },
    {
      "cell_type": "markdown",
      "source": [
        "<table>\n",
        "  <tr>\n",
        "    <td><img src=\"https://ionnova.com/img/ionnova_logo_name_2.png\" width=\"120px\"></td>\n",
        "    <td><h1>Creating a Basic LangGraph</h1></td>\n",
        "  </tr>\n",
        "</table>"
      ],
      "metadata": {
        "id": "-BQRkf3HklNe"
      }
    },
    {
      "cell_type": "code",
      "source": [
        "!pip install langgraph"
      ],
      "metadata": {
        "id": "WSQaUTz_k6qO"
      },
      "execution_count": null,
      "outputs": []
    },
    {
      "cell_type": "code",
      "execution_count": null,
      "metadata": {
        "id": "NW4MiEhVkLZG"
      },
      "outputs": [],
      "source": [
        "\n",
        "from langgraph.graph import StateGraph, END\n",
        "from typing import TypedDict\n",
        "\n",
        "class GraphState(TypedDict):\n",
        "    input: str\n",
        "    step: str\n",
        "\n",
        "def start_node(state: GraphState) -> GraphState:\n",
        "    print(\"[Start Node]\")\n",
        "    print(\"Input:\", state[\"input\"])\n",
        "    state[\"step\"] = \"classified\"\n",
        "    return state\n",
        "\n",
        "def response_node(state: GraphState) -> GraphState:\n",
        "    print(\"[Response Node]\")\n",
        "    print(\"Step:\", state[\"step\"])\n",
        "    return state\n",
        "\n",
        "graph = StateGraph(GraphState)\n",
        "graph.add_node(\"start\", start_node)\n",
        "graph.add_node(\"respond\", response_node)\n",
        "\n",
        "graph.set_entry_point(\"start\")\n",
        "graph.set_finish_point(\"respond\")\n",
        "\n",
        "graph.add_edge(\"start\", \"respond\")\n",
        "graph = graph.compile()\n",
        "\n",
        "\n",
        "\n",
        "if __name__ == \"__main__\":\n",
        "    output = graph.invoke({\"input\": \"Traversing the graph!\"})\n",
        "    print(\"Final Output:\", output)\n"
      ]
    }
  ]
}