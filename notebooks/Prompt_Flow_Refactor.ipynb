{
  "nbformat": 4,
  "nbformat_minor": 0,
  "metadata": {
    "colab": {
      "provenance": [],
      "include_colab_link": true
    },
    "kernelspec": {
      "name": "python3",
      "display_name": "Python 3"
    },
    "language_info": {
      "name": "python"
    }
  },
  "cells": [
    {
      "cell_type": "markdown",
      "metadata": {
        "id": "view-in-github",
        "colab_type": "text"
      },
      "source": [
        "<a href=\"https://colab.research.google.com/github/solomontessema/Agentic-AI-with-Python/blob/main/notebooks/Prompt_Flow_Refactor.ipynb\" target=\"_parent\"><img src=\"https://colab.research.google.com/assets/colab-badge.svg\" alt=\"Open In Colab\"/></a>"
      ]
    },
    {
      "cell_type": "markdown",
      "source": [
        "<table>\n",
        "  <tr>\n",
        "    <td><img src=\"https://ionnova.com/img/ionnova_logo_name_2.png\" width=\"120px\"></td>\n",
        "    <td><h1>Prompt Flow Refactor</h1></td>\n",
        "  </tr>\n",
        "</table>"
      ],
      "metadata": {
        "id": "-BQRkf3HklNe"
      }
    },
    {
      "cell_type": "markdown",
      "source": [
        "\n",
        "### Step 1: Create prompt_pipeline.py\n"
      ],
      "metadata": {
        "id": "tP-vSXhAkY9Y"
      }
    },
    {
      "cell_type": "code",
      "source": [
        "!pip install langchain-community"
      ],
      "metadata": {
        "id": "WSQaUTz_k6qO"
      },
      "execution_count": null,
      "outputs": []
    },
    {
      "cell_type": "code",
      "execution_count": null,
      "metadata": {
        "id": "NW4MiEhVkLZG"
      },
      "outputs": [],
      "source": [
        "from langchain.chat_models import ChatOpenAI\n",
        "from langchain.prompts import PromptTemplate\n",
        "from langchain.chains import LLMChain, SequentialChain\n",
        "\n",
        "llm = ChatOpenAI(model=\"gpt-4\", temperature=0)\n",
        "\n",
        "# 1: Intent Classification\n",
        "intent_prompt = PromptTemplate(\n",
        "    input_variables=[\"query\"],\n",
        "    template=\"\"\"\n",
        "    Classify the intent of this query: {query}\n",
        "    Categories: weather, news, search, database, unknown.\n",
        "    Just return the category.\n",
        "    \"\"\"\n",
        ")\n",
        "intent_chain = LLMChain(llm=llm, prompt=intent_prompt, output_key=\"category\")\n",
        "\n",
        "# 2: Generate Follow-up Prompt with Conditional Logic\n",
        "followup_prompt = PromptTemplate(\n",
        "    input_variables=[\"category\", \"constraint\"],\n",
        "    template=\"\"\"\n",
        "    Category: {category}\n",
        "    {#if constraint}\n",
        "    Please ensure to follow this rule: {constraint}\n",
        "    {#endif}\n",
        "    Write a follow-up question for clarification.\n",
        "    \"\"\"\n",
        ")\n",
        "followup_chain = LLMChain(llm=llm, prompt=followup_prompt, output_key=\"followup\")\n",
        "\n",
        "# Combine chains\n",
        "clarifier = SequentialChain(\n",
        "    chains=[intent_chain, followup_chain],\n",
        "    input_variables=[\"query\", \"constraint\"],\n",
        "    output_variables=[\"followup\"],\n",
        "    verbose=True\n",
        ")\n",
        "\n",
        "result = clarifier({\"query\": \"Tell me something interesting about AI.\", \"constraint\": \"Keep it beginner-friendly.\"})\n",
        "print(result[\"followup\"])"
      ]
    },
    {
      "cell_type": "markdown",
      "source": [
        "### Step 2: Test with Varied Inputs\n",
        "\n",
        "Try queries such as:\n",
        "\n",
        "\"What’s the weather in Nairobi?\"\n",
        "\n",
        "\"Summarize the latest news on GPT-4\"\n",
        "\n",
        "You can also test with constraints like:\n",
        "\n",
        "\"Use simple language\"\n",
        "\n",
        "\"Limit response to 2 sentences\"\n",
        "\n",
        "\"Focus on business context\"\n",
        "\n",
        "Observe how the pipeline adapts.\n"
      ],
      "metadata": {
        "id": "Cn8rqdhKoPKN"
      }
    },
    {
      "cell_type": "code",
      "source": [],
      "metadata": {
        "id": "-iQgRXG2oZMN"
      },
      "execution_count": null,
      "outputs": []
    }
  ]
}