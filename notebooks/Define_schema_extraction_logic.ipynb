{
  "nbformat": 4,
  "nbformat_minor": 0,
  "metadata": {
    "colab": {
      "provenance": [],
      "include_colab_link": true
    },
    "kernelspec": {
      "name": "python3",
      "display_name": "Python 3"
    },
    "language_info": {
      "name": "python"
    }
  },
  "cells": [
    {
      "cell_type": "markdown",
      "metadata": {
        "id": "view-in-github",
        "colab_type": "text"
      },
      "source": [
        "<a href=\"https://colab.research.google.com/github/solomontessema/Agentic-AI-with-Python/blob/main/Define_schema_extraction_logic.ipynb\" target=\"_parent\"><img src=\"https://colab.research.google.com/assets/colab-badge.svg\" alt=\"Open In Colab\"/></a>"
      ]
    },
    {
      "cell_type": "markdown",
      "source": [
        "<table>\n",
        "  <tr>\n",
        "    <td><img src=\"https://ionnova.com/img/ionnova_logo_name_2.png\" width=\"120px\"></td>\n",
        "    <td><h1>Define schema extraction logic</h1></td>\n",
        "  </tr>\n",
        "</table>"
      ],
      "metadata": {
        "id": "hgswtkzWXnxR"
      }
    },
    {
      "cell_type": "code",
      "execution_count": null,
      "metadata": {
        "id": "3Cvty8lhS57N"
      },
      "outputs": [],
      "source": [
        "import sqlite3\n",
        "import random\n",
        "from datetime import datetime\n",
        "\n",
        "# Connect to (or create) a database file\n",
        "db = sqlite3.connect(\"data.db\")\n",
        "cursor = db.cursor()\n",
        "\n",
        "# Create a sample table\n",
        "cursor.execute(\"\"\"\n",
        "CREATE TABLE IF NOT EXISTS users (\n",
        "    id INTEGER PRIMARY KEY,\n",
        "    name TEXT,\n",
        "    email TEXT,\n",
        "    signup_date TEXT\n",
        ");\n",
        "\"\"\")\n",
        "\n",
        "db.commit()\n",
        "\n",
        "# Insert sample data\n",
        "def insert_sample_users():\n",
        "    names = [\"Alice\", \"Bob\", \"Charlie\", \"Diana\", \"Eve\", \"Frank\", \"Grace\", \"Hank\", \"Ivy\", \"Jack\",\n",
        "             \"Karen\", \"Leo\", \"Mona\", \"Nate\", \"Olivia\", \"Paul\", \"Quinn\", \"Rachel\", \"Steve\", \"Tina\",\n",
        "             \"Uma\", \"Victor\", \"Wendy\", \"Xander\", \"Yara\", \"Zane\", \"Liam\", \"Noah\", \"Emma\", \"Sophia\"]\n",
        "\n",
        "    for i in range(30):\n",
        "        name = names[i]\n",
        "        email = f\"{name.lower()}@example.com\"\n",
        "        # Random signup date in 2022 or 2023\n",
        "        year = random.choice([2022, 2023])\n",
        "        month = random.randint(1, 12)\n",
        "        day = random.randint(1, 28)\n",
        "        signup_date = datetime(year, month, day).strftime(\"%Y-%m-%d\")\n",
        "\n",
        "        cursor.execute(\"INSERT INTO users (name, email, signup_date) VALUES (?, ?, ?)\",\n",
        "                       (name, email, signup_date))\n",
        "\n",
        "    db.commit()\n",
        "    print(\"Inserted 30 sample users.\")\n",
        "\n",
        "# Run this once to populate the table\n",
        "insert_sample_users()"
      ]
    }
  ]
}
