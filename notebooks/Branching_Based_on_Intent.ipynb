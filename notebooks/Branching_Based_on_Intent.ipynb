{
  "nbformat": 4,
  "nbformat_minor": 0,
  "metadata": {
    "colab": {
      "provenance": [],
      "include_colab_link": true
    },
    "kernelspec": {
      "name": "python3",
      "display_name": "Python 3"
    },
    "language_info": {
      "name": "python"
    }
  },
  "cells": [
    {
      "cell_type": "markdown",
      "metadata": {
        "id": "view-in-github",
        "colab_type": "text"
      },
      "source": [
        "<a href=\"https://colab.research.google.com/github/solomontessema/Agentic-AI-with-Python/blob/main/notebooks/Branching_Based_on_Intent.ipynb\" target=\"_parent\"><img src=\"https://colab.research.google.com/assets/colab-badge.svg\" alt=\"Open In Colab\"/></a>"
      ]
    },
    {
      "cell_type": "markdown",
      "source": [
        "<table>\n",
        "  <tr>\n",
        "    <td><img src=\"https://ionnova.com/img/ionnova_logo_name_2.png\" width=\"120px\"></td>\n",
        "    <td><h1>Branching Based on Intent</h1></td>\n",
        "  </tr>\n",
        "</table>"
      ],
      "metadata": {
        "id": "-BQRkf3HklNe"
      }
    },
    {
      "cell_type": "code",
      "source": [
        "!pip install langgraph"
      ],
      "metadata": {
        "id": "WSQaUTz_k6qO"
      },
      "execution_count": null,
      "outputs": []
    },
    {
      "cell_type": "code",
      "execution_count": null,
      "metadata": {
        "id": "NW4MiEhVkLZG"
      },
      "outputs": [],
      "source": [
        "\n",
        "from langgraph.graph import StateGraph, END\n",
        "from typing import TypedDict\n",
        "\n",
        "class GraphState(TypedDict):\n",
        "    input: str\n",
        "    intent: str\n",
        "\n",
        "# Simulate an intent classifier\n",
        "\n",
        "def classify_node(state: GraphState):\n",
        "    print(\"[Classify Node]\")\n",
        "    query = state[\"input\"].lower()\n",
        "    if \"weather\" in query:\n",
        "        state[\"intent\"] = \"weather\"\n",
        "        return {\"next\": \"weather_node\", **state}\n",
        "    elif \"news\" in query:\n",
        "        state[\"intent\"] = \"news\"\n",
        "        return {\"next\": \"news_node\", **state}\n",
        "    else:\n",
        "        state[\"intent\"] = \"default\"\n",
        "        return {\"next\": \"fallback_node\", **state}\n",
        "\n",
        "# Define downstream nodes\n",
        "\n",
        "def weather_node(state):\n",
        "    print(\"[Weather Node] — Simulated weather result\")\n",
        "    return state\n",
        "\n",
        "def news_node(state):\n",
        "    print(\"[News Node] — Simulated news result\")\n",
        "    return state\n",
        "\n",
        "def fallback_node(state):\n",
        "    print(\"[Fallback Node] — No match found\")\n",
        "    return state\n",
        "\n",
        "# Build the graph\n",
        "\n",
        "graph = StateGraph(GraphState)\n",
        "graph.add_node(\"classifier\", classify_node)\n",
        "graph.add_node(\"weather_node\", weather_node)\n",
        "graph.add_node(\"news_node\", news_node)\n",
        "graph.add_node(\"fallback_node\", fallback_node)\n",
        "\n",
        "graph.add_edge(\"weather_node\", END)\n",
        "graph.add_edge(\"news_node\", END)\n",
        "graph.add_edge(\"fallback_node\", END)\n",
        "\n",
        "graph.set_entry_point(\"classifier\")\n",
        "graph = graph.compile()\n",
        "\n",
        "\n",
        "# Run different queries\n",
        "\n",
        "if __name__ == \"__main__\":\n",
        "    queries = [\n",
        "        \"What’s the weather in Nairobi?\",\n",
        "        \"Show me news on GPT-4\",\n",
        "        \"Who won the chess game last night?\"\n",
        "    ]\n",
        "    for q in queries:\n",
        "        print(\"--- Running Graph ---\")\n",
        "        result = graph.invoke({\"input\": q})\n",
        "        print(\"Final Intent:\", result[\"intent\"])"
      ]
    }
  ]
}